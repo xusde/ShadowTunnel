{
 "cells": [
  {
   "cell_type": "code",
   "execution_count": 69,
   "id": "29779637",
   "metadata": {},
   "outputs": [],
   "source": [
    "# import the necessary lib\n",
    "import perfplot\n",
    "import numpy as np"
   ]
  },
  {
   "cell_type": "code",
   "execution_count": 48,
   "id": "eb2b06b9",
   "metadata": {},
   "outputs": [
    {
     "ename": "NameError",
     "evalue": "name 'perfplot' is not defined",
     "output_type": "error",
     "traceback": [
      "\u001b[0;31m---------------------------------------------------------------------------\u001b[0m",
      "\u001b[0;31mNameError\u001b[0m                                 Traceback (most recent call last)",
      "\u001b[0;32m/var/folders/1q/djf7hzrn4wx1p7m26p8h4w_c0000gn/T/ipykernel_38566/3785830028.py\u001b[0m in \u001b[0;36m<module>\u001b[0;34m\u001b[0m\n\u001b[0;32m----> 1\u001b[0;31m perfplot.show(\n\u001b[0m\u001b[1;32m      2\u001b[0m     \u001b[0msetup\u001b[0m \u001b[0;34m=\u001b[0m \u001b[0mnp\u001b[0m\u001b[0;34m.\u001b[0m\u001b[0mrandom\u001b[0m\u001b[0;34m.\u001b[0m\u001b[0mrand\u001b[0m\u001b[0;34m,\u001b[0m\u001b[0;34m\u001b[0m\u001b[0;34m\u001b[0m\u001b[0m\n\u001b[1;32m      3\u001b[0m     kernels = [\n\u001b[1;32m      4\u001b[0m         \u001b[0;32mlambda\u001b[0m \u001b[0mx\u001b[0m\u001b[0;34m:\u001b[0m \u001b[0mnp\u001b[0m\u001b[0;34m.\u001b[0m\u001b[0mc_\u001b[0m\u001b[0;34m[\u001b[0m\u001b[0mx\u001b[0m\u001b[0;34m,\u001b[0m \u001b[0mx\u001b[0m\u001b[0;34m]\u001b[0m\u001b[0;34m,\u001b[0m\u001b[0;34m\u001b[0m\u001b[0;34m\u001b[0m\u001b[0m\n\u001b[1;32m      5\u001b[0m         \u001b[0;32mlambda\u001b[0m \u001b[0mx\u001b[0m\u001b[0;34m:\u001b[0m \u001b[0mnp\u001b[0m\u001b[0;34m.\u001b[0m\u001b[0mstack\u001b[0m\u001b[0;34m(\u001b[0m\u001b[0;34m[\u001b[0m\u001b[0mx\u001b[0m\u001b[0;34m,\u001b[0m \u001b[0mx\u001b[0m\u001b[0;34m]\u001b[0m\u001b[0;34m)\u001b[0m\u001b[0;34m.\u001b[0m\u001b[0mT\u001b[0m\u001b[0;34m,\u001b[0m\u001b[0;34m\u001b[0m\u001b[0;34m\u001b[0m\u001b[0m\n",
      "\u001b[0;31mNameError\u001b[0m: name 'perfplot' is not defined"
     ]
    }
   ],
   "source": [
    "perfplot.show(\n",
    "    setup = np.random.rand,\n",
    "    kernels = [\n",
    "        lambda x: np.c_[x, x],\n",
    "        lambda x: np.stack([x, x]).T,\n",
    "        lambda x: np.vstack([x, x]).T,\n",
    "        lambda x: np.column_stack([x, x]),\n",
    "        lambda x: np.concatenate([x[:, None], x[:, None]], axis = 1)\n",
    "    ],\n",
    "    labels = [\"C__\", \"np.stack\", \"np.vstack\", \"np.column_stack\", \"np.concatenate\"],\n",
    "    n_range = [2 ** k for k in range(25)],\n",
    "    xlabel = \"size of input\"\n",
    "\n",
    ")"
   ]
  },
  {
   "cell_type": "code",
   "execution_count": 3,
   "id": "82e1ae90",
   "metadata": {},
   "outputs": [],
   "source": [
    "### requests with proxy play\n",
    "import requests\n"
   ]
  },
  {
   "cell_type": "code",
   "execution_count": 155,
   "id": "7ebfa214",
   "metadata": {},
   "outputs": [],
   "source": [
    "proxy = {\n",
    "    \"http\":  \"socks5h://localhost:6000\",\n",
    "    \"https\": \"socks5h://localhost:6000\"\n",
    "}"
   ]
  },
  {
   "cell_type": "code",
   "execution_count": 157,
   "id": "6e5151a0",
   "metadata": {},
   "outputs": [
    {
     "name": "stdout",
     "output_type": "stream",
     "text": [
      "{'Cache-Control': 'private, no-cache, no-store, proxy-revalidate, no-transform', 'Connection': 'keep-alive', 'Content-Encoding': 'gzip', 'Content-Type': 'text/html', 'Date': 'Tue, 13 Dec 2022 21:36:06 GMT', 'Last-Modified': 'Mon, 23 Jan 2017 13:28:11 GMT', 'Pragma': 'no-cache', 'Server': 'bfe/1.0.8.18', 'Set-Cookie': 'BDORZ=27315; max-age=86400; domain=.baidu.com; path=/', 'Transfer-Encoding': 'chunked'}\n",
      "200\n"
     ]
    }
   ],
   "source": [
    "r = requests.get(\"https://baidu.com\", proxies = proxy)\n",
    "print(r.headers)\n",
    "print(r.status_code)"
   ]
  },
  {
   "cell_type": "code",
   "execution_count": 58,
   "id": "e03005be",
   "metadata": {},
   "outputs": [],
   "source": [
    "proxy2 = {\n",
    "    \"http\":  \"socks5h://localhost:7582\",\n",
    "    \"https\": \"socks5h://localhost:7582\"\n",
    "}"
   ]
  },
  {
   "cell_type": "code",
   "execution_count": 64,
   "id": "a6957729",
   "metadata": {},
   "outputs": [
    {
     "name": "stdout",
     "output_type": "stream",
     "text": [
      "{'Cache-Control': 'private, no-cache, no-store, proxy-revalidate, no-transform', 'Connection': 'keep-alive', 'Content-Encoding': 'gzip', 'Content-Type': 'text/html', 'Date': 'Tue, 13 Dec 2022 02:11:59 GMT', 'Last-Modified': 'Mon, 23 Jan 2017 13:28:12 GMT', 'Pragma': 'no-cache', 'Server': 'bfe/1.0.8.18', 'Set-Cookie': 'BDORZ=27315; max-age=86400; domain=.baidu.com; path=/', 'Transfer-Encoding': 'chunked'}\n",
      "200\n"
     ]
    }
   ],
   "source": [
    "\n",
    "r = requests.get(\"https://baidu.com\", proxies = proxy2)\n",
    "print(r.headers)\n",
    "print(r.status_code)"
   ]
  },
  {
   "cell_type": "code",
   "execution_count": 35,
   "id": "7b0f381d",
   "metadata": {},
   "outputs": [
    {
     "name": "stdout",
     "output_type": "stream",
     "text": [
      "utf-8\n"
     ]
    }
   ],
   "source": [
    "print(r.encoding)"
   ]
  },
  {
   "cell_type": "code",
   "execution_count": 36,
   "id": "0b263bed",
   "metadata": {},
   "outputs": [
    {
     "name": "stdout",
     "output_type": "stream",
     "text": [
      "b'{\\n  \"ip\": \"73.4.153.225\",\\n  \"hostname\": \"c-73-4-153-225.hsd1.ma.comcast.net\",\\n  \"city\": \"Somerville\",\\n  \"region\": \"Massachusetts\",\\n  \"country\": \"US\",\\n  \"loc\": \"42.3907,-71.0929\",\\n  \"org\": \"AS7015 Comcast Cable Communications, LLC\",\\n  \"postal\": \"02145\",\\n  \"timezone\": \"America/New_York\",\\n  \"readme\": \"https://ipinfo.io/missingauth\"\\n}'\n"
     ]
    }
   ],
   "source": [
    "print(r.content)"
   ]
  },
  {
   "cell_type": "code",
   "execution_count": 37,
   "id": "97df1d40",
   "metadata": {},
   "outputs": [
    {
     "name": "stdout",
     "output_type": "stream",
     "text": [
      "200\n"
     ]
    }
   ],
   "source": [
    "print(r.status_code)"
   ]
  },
  {
   "cell_type": "code",
   "execution_count": 38,
   "id": "d2fc3402",
   "metadata": {},
   "outputs": [],
   "source": [
    "r.raise_for_status()"
   ]
  },
  {
   "cell_type": "code",
   "execution_count": 40,
   "id": "2534ab3c",
   "metadata": {},
   "outputs": [
    {
     "data": {
      "text/plain": [
       "'application/json; charset=utf-8'"
      ]
     },
     "execution_count": 40,
     "metadata": {},
     "output_type": "execute_result"
    }
   ],
   "source": [
    "r.headers['content-type']"
   ]
  },
  {
   "cell_type": "code",
   "execution_count": 42,
   "id": "ade09e90",
   "metadata": {},
   "outputs": [
    {
     "data": {
      "text/plain": [
       "{'access-control-allow-origin': '*', 'x-frame-options': 'SAMEORIGIN', 'x-xss-protection': '1; mode=block', 'x-content-type-options': 'nosniff', 'referrer-policy': 'strict-origin-when-cross-origin', 'content-type': 'application/json; charset=utf-8', 'date': 'Tue, 13 Dec 2022 01:47:10 GMT', 'x-envoy-upstream-service-time': '2', 'strict-transport-security': 'max-age=2592000; includeSubDomains', 'vary': 'Accept-Encoding', 'content-encoding': 'gzip', 'Via': '1.1 google', 'Alt-Svc': 'h3=\":443\"; ma=2592000,h3-29=\":443\"; ma=2592000', 'Transfer-Encoding': 'chunked'}"
      ]
     },
     "execution_count": 42,
     "metadata": {},
     "output_type": "execute_result"
    }
   ],
   "source": [
    "r.headers"
   ]
  },
  {
   "cell_type": "code",
   "execution_count": 43,
   "id": "6ed74744",
   "metadata": {},
   "outputs": [
    {
     "data": {
      "text/plain": [
       "[]"
      ]
     },
     "execution_count": 43,
     "metadata": {},
     "output_type": "execute_result"
    }
   ],
   "source": [
    "r.history"
   ]
  },
  {
   "cell_type": "code",
   "execution_count": null,
   "id": "59608d41",
   "metadata": {},
   "outputs": [],
   "source": [
    "s = requests.Session()\n",
    "s.proxies.update(proxy)\n",
    "def go_proxy(num_iter):\n",
    "    re_list = []\n",
    "    for i in (num_iter):\n",
    "        r = s.get(\"https://www.google.com\")\n",
    "        re_list.append(r.status_code)\n",
    "    return re_list\n",
    "\n",
    "def java_proxy(num_iter):\n",
    "    re_list = []\n",
    "    for i in (num_iter):\n",
    "        r = requests.get(\"https://www.google.com\", proxies = proxy2)\n",
    "        re_list.append(r.status_code)\n",
    "    return re_list"
   ]
  },
  {
   "cell_type": "code",
   "execution_count": 90,
   "id": "346bf8ee",
   "metadata": {},
   "outputs": [
    {
     "data": {
      "application/vnd.jupyter.widget-view+json": {
       "model_id": "b533b1b69d4d43c5a40b3ac10cc33040",
       "version_major": 2,
       "version_minor": 0
      },
      "text/plain": [
       "Output()"
      ]
     },
     "metadata": {},
     "output_type": "display_data"
    },
    {
     "data": {
      "text/html": [
       "<pre style=\"white-space:pre;overflow-x:auto;line-height:normal;font-family:Menlo,'DejaVu Sans Mono',consolas,'Courier New',monospace\"></pre>\n"
      ],
      "text/plain": []
     },
     "metadata": {},
     "output_type": "display_data"
    },
    {
     "data": {
      "text/html": [
       "<pre style=\"white-space:pre;overflow-x:auto;line-height:normal;font-family:Menlo,'DejaVu Sans Mono',consolas,'Courier New',monospace\">\n",
       "</pre>\n"
      ],
      "text/plain": [
       "\n"
      ]
     },
     "metadata": {},
     "output_type": "display_data"
    },
    {
     "data": {
      "image/png": "[encoded data removed]",
      "text/plain": [
       "<Figure size 640x480 with 1 Axes>"
      ]
     },
     "metadata": {},
     "output_type": "display_data"
    }
   ],
   "source": [
    "perfplot.show(\n",
    "    setup = lambda n: list(range(n)),\n",
    "    kernels = [\n",
    "        go_proxy,\n",
    "        java_proxy\n",
    "    ],\n",
    "    labels = [\"go_proxy\", \"java_proxy\"],\n",
    "    n_range = [2 ** k for k in range(10)],\n",
    "    xlabel = \"size of input\"\n",
    "\n",
    ")"
   ]
  },
  {
   "cell_type": "code",
   "execution_count": 76,
   "id": "c94e67d0",
   "metadata": {},
   "outputs": [
    {
     "data": {
      "text/plain": [
       "[0, 1, 2, 3, 4]"
      ]
     },
     "execution_count": 76,
     "metadata": {},
     "output_type": "execute_result"
    }
   ],
   "source": [
    "list(range(5))"
   ]
  },
  {
   "cell_type": "code",
   "execution_count": 91,
   "id": "9782d8a3",
   "metadata": {},
   "outputs": [],
   "source": [
    "import pandas as pd"
   ]
  },
  {
   "cell_type": "code",
   "execution_count": 92,
   "id": "7fb1097d",
   "metadata": {},
   "outputs": [],
   "source": [
    "top100 = pd.read_csv(\"/Users/peng/Downloads/top-1m.csv\")"
   ]
  },
  {
   "cell_type": "code",
   "execution_count": 93,
   "id": "e91a0da1",
   "metadata": {},
   "outputs": [
    {
     "name": "stdout",
     "output_type": "stream",
     "text": [
      "<class 'pandas.core.frame.DataFrame'>\n"
     ]
    }
   ],
   "source": [
    "print(type(top100))"
   ]
  },
  {
   "cell_type": "code",
   "execution_count": 94,
   "id": "12ea6f02",
   "metadata": {},
   "outputs": [
    {
     "data": {
      "text/html": [
       "<div>\n",
       "<style scoped>\n",
       "    .dataframe tbody tr th:only-of-type {\n",
       "        vertical-align: middle;\n",
       "    }\n",
       "\n",
       "    .dataframe tbody tr th {\n",
       "        vertical-align: top;\n",
       "    }\n",
       "\n",
       "    .dataframe thead th {\n",
       "        text-align: right;\n",
       "    }\n",
       "</style>\n",
       "<table border=\"1\" class=\"dataframe\">\n",
       "  <thead>\n",
       "    <tr style=\"text-align: right;\">\n",
       "      <th></th>\n",
       "      <th>1</th>\n",
       "      <th>google.com</th>\n",
       "    </tr>\n",
       "  </thead>\n",
       "  <tbody>\n",
       "    <tr>\n",
       "      <th>0</th>\n",
       "      <td>2</td>\n",
       "      <td>youtube.com</td>\n",
       "    </tr>\n",
       "    <tr>\n",
       "      <th>1</th>\n",
       "      <td>3</td>\n",
       "      <td>facebook.com</td>\n",
       "    </tr>\n",
       "    <tr>\n",
       "      <th>2</th>\n",
       "      <td>4</td>\n",
       "      <td>baidu.com</td>\n",
       "    </tr>\n",
       "    <tr>\n",
       "      <th>3</th>\n",
       "      <td>5</td>\n",
       "      <td>bilibili.com</td>\n",
       "    </tr>\n",
       "    <tr>\n",
       "      <th>4</th>\n",
       "      <td>6</td>\n",
       "      <td>instagram.com</td>\n",
       "    </tr>\n",
       "    <tr>\n",
       "      <th>...</th>\n",
       "      <td>...</td>\n",
       "      <td>...</td>\n",
       "    </tr>\n",
       "    <tr>\n",
       "      <th>639076</th>\n",
       "      <td>639078</td>\n",
       "      <td>zafaah.com</td>\n",
       "    </tr>\n",
       "    <tr>\n",
       "      <th>639077</th>\n",
       "      <td>639079</td>\n",
       "      <td>zallom.com</td>\n",
       "    </tr>\n",
       "    <tr>\n",
       "      <th>639078</th>\n",
       "      <td>639080</td>\n",
       "      <td>zerovape.store</td>\n",
       "    </tr>\n",
       "    <tr>\n",
       "      <th>639079</th>\n",
       "      <td>639081</td>\n",
       "      <td>zfatt.com</td>\n",
       "    </tr>\n",
       "    <tr>\n",
       "      <th>639080</th>\n",
       "      <td>639082</td>\n",
       "      <td>zhlicense.com</td>\n",
       "    </tr>\n",
       "  </tbody>\n",
       "</table>\n",
       "<p>639081 rows × 2 columns</p>\n",
       "</div>"
      ],
      "text/plain": [
       "             1      google.com\n",
       "0            2     youtube.com\n",
       "1            3    facebook.com\n",
       "2            4       baidu.com\n",
       "3            5    bilibili.com\n",
       "4            6   instagram.com\n",
       "...        ...             ...\n",
       "639076  639078      zafaah.com\n",
       "639077  639079      zallom.com\n",
       "639078  639080  zerovape.store\n",
       "639079  639081       zfatt.com\n",
       "639080  639082   zhlicense.com\n",
       "\n",
       "[639081 rows x 2 columns]"
      ]
     },
     "execution_count": 94,
     "metadata": {},
     "output_type": "execute_result"
    }
   ],
   "source": [
    "top100"
   ]
  },
  {
   "cell_type": "code",
   "execution_count": 98,
   "id": "c888f2aa",
   "metadata": {},
   "outputs": [
    {
     "data": {
      "text/plain": [
       "Index(['1', 'google.com'], dtype='object')"
      ]
     },
     "execution_count": 98,
     "metadata": {},
     "output_type": "execute_result"
    }
   ],
   "source": [
    "top100.columns"
   ]
  },
  {
   "cell_type": "code",
   "execution_count": 100,
   "id": "9619dbc1",
   "metadata": {},
   "outputs": [],
   "source": [
    "top100.columns = ['idx', 'websites']"
   ]
  },
  {
   "cell_type": "code",
   "execution_count": 101,
   "id": "b3450021",
   "metadata": {},
   "outputs": [
    {
     "data": {
      "text/html": [
       "<div>\n",
       "<style scoped>\n",
       "    .dataframe tbody tr th:only-of-type {\n",
       "        vertical-align: middle;\n",
       "    }\n",
       "\n",
       "    .dataframe tbody tr th {\n",
       "        vertical-align: top;\n",
       "    }\n",
       "\n",
       "    .dataframe thead th {\n",
       "        text-align: right;\n",
       "    }\n",
       "</style>\n",
       "<table border=\"1\" class=\"dataframe\">\n",
       "  <thead>\n",
       "    <tr style=\"text-align: right;\">\n",
       "      <th></th>\n",
       "      <th>idx</th>\n",
       "      <th>websites</th>\n",
       "    </tr>\n",
       "  </thead>\n",
       "  <tbody>\n",
       "    <tr>\n",
       "      <th>0</th>\n",
       "      <td>2</td>\n",
       "      <td>youtube.com</td>\n",
       "    </tr>\n",
       "    <tr>\n",
       "      <th>1</th>\n",
       "      <td>3</td>\n",
       "      <td>facebook.com</td>\n",
       "    </tr>\n",
       "    <tr>\n",
       "      <th>2</th>\n",
       "      <td>4</td>\n",
       "      <td>baidu.com</td>\n",
       "    </tr>\n",
       "    <tr>\n",
       "      <th>3</th>\n",
       "      <td>5</td>\n",
       "      <td>bilibili.com</td>\n",
       "    </tr>\n",
       "    <tr>\n",
       "      <th>4</th>\n",
       "      <td>6</td>\n",
       "      <td>instagram.com</td>\n",
       "    </tr>\n",
       "    <tr>\n",
       "      <th>...</th>\n",
       "      <td>...</td>\n",
       "      <td>...</td>\n",
       "    </tr>\n",
       "    <tr>\n",
       "      <th>639076</th>\n",
       "      <td>639078</td>\n",
       "      <td>zafaah.com</td>\n",
       "    </tr>\n",
       "    <tr>\n",
       "      <th>639077</th>\n",
       "      <td>639079</td>\n",
       "      <td>zallom.com</td>\n",
       "    </tr>\n",
       "    <tr>\n",
       "      <th>639078</th>\n",
       "      <td>639080</td>\n",
       "      <td>zerovape.store</td>\n",
       "    </tr>\n",
       "    <tr>\n",
       "      <th>639079</th>\n",
       "      <td>639081</td>\n",
       "      <td>zfatt.com</td>\n",
       "    </tr>\n",
       "    <tr>\n",
       "      <th>639080</th>\n",
       "      <td>639082</td>\n",
       "      <td>zhlicense.com</td>\n",
       "    </tr>\n",
       "  </tbody>\n",
       "</table>\n",
       "<p>639081 rows × 2 columns</p>\n",
       "</div>"
      ],
      "text/plain": [
       "           idx        websites\n",
       "0            2     youtube.com\n",
       "1            3    facebook.com\n",
       "2            4       baidu.com\n",
       "3            5    bilibili.com\n",
       "4            6   instagram.com\n",
       "...        ...             ...\n",
       "639076  639078      zafaah.com\n",
       "639077  639079      zallom.com\n",
       "639078  639080  zerovape.store\n",
       "639079  639081       zfatt.com\n",
       "639080  639082   zhlicense.com\n",
       "\n",
       "[639081 rows x 2 columns]"
      ]
     },
     "execution_count": 101,
     "metadata": {},
     "output_type": "execute_result"
    }
   ],
   "source": [
    "top100"
   ]
  },
  {
   "cell_type": "code",
   "execution_count": 102,
   "id": "56ad7c6f",
   "metadata": {},
   "outputs": [],
   "source": [
    "newtop100 = top100['websites'][:99]"
   ]
  },
  {
   "cell_type": "code",
   "execution_count": 103,
   "id": "c1dd4fd9",
   "metadata": {},
   "outputs": [
    {
     "data": {
      "text/plain": [
       "0           youtube.com\n",
       "1          facebook.com\n",
       "2             baidu.com\n",
       "3          bilibili.com\n",
       "4         instagram.com\n",
       "            ...        \n",
       "94              nih.gov\n",
       "95    sciencedirect.com\n",
       "96               msn.cn\n",
       "97           tumblr.com\n",
       "98             cnki.net\n",
       "Name: websites, Length: 99, dtype: object"
      ]
     },
     "execution_count": 103,
     "metadata": {},
     "output_type": "execute_result"
    }
   ],
   "source": [
    "newtop100"
   ]
  },
  {
   "cell_type": "code",
   "execution_count": 109,
   "id": "7af1269b",
   "metadata": {},
   "outputs": [],
   "source": [
    "newtop100.loc[99] = \"google.com\""
   ]
  },
  {
   "cell_type": "code",
   "execution_count": 110,
   "id": "cc43aa8e",
   "metadata": {},
   "outputs": [
    {
     "data": {
      "text/plain": [
       "0           youtube.com\n",
       "1          facebook.com\n",
       "2             baidu.com\n",
       "3          bilibili.com\n",
       "4         instagram.com\n",
       "            ...        \n",
       "95    sciencedirect.com\n",
       "96               msn.cn\n",
       "97           tumblr.com\n",
       "98             cnki.net\n",
       "99           google.com\n",
       "Name: websites, Length: 100, dtype: object"
      ]
     },
     "execution_count": 110,
     "metadata": {},
     "output_type": "execute_result"
    }
   ],
   "source": [
    "newtop100"
   ]
  },
  {
   "cell_type": "markdown",
   "id": "46fac1f2",
   "metadata": {},
   "source": [
    "### socket"
   ]
  },
  {
   "cell_type": "code",
   "execution_count": 111,
   "id": "0a2ff7b1",
   "metadata": {},
   "outputs": [],
   "source": [
    "import socket"
   ]
  },
  {
   "cell_type": "code",
   "execution_count": 151,
   "id": "12ef3963",
   "metadata": {},
   "outputs": [],
   "source": [
    "s = socket.socket(socket.AF_INET, socket.SOCK_STREAM)"
   ]
  },
  {
   "cell_type": "code",
   "execution_count": 152,
   "id": "514ff3f6",
   "metadata": {},
   "outputs": [],
   "source": [
    "s.connect((\"localhost\", 7582))"
   ]
  },
  {
   "cell_type": "code",
   "execution_count": 153,
   "id": "0efb4d0f",
   "metadata": {},
   "outputs": [
    {
     "data": {
      "text/plain": [
       "5"
      ]
     },
     "execution_count": 153,
     "metadata": {},
     "output_type": "execute_result"
    }
   ],
   "source": [
    "s.send(b'\\x050100')"
   ]
  },
  {
   "cell_type": "code",
   "execution_count": 154,
   "id": "14d1047a",
   "metadata": {},
   "outputs": [
    {
     "name": "stdout",
     "output_type": "stream",
     "text": [
      "b'\\x05\\x00'\n"
     ]
    }
   ],
   "source": [
    "r = s.recv(30)\n",
    "print(r)"
   ]
  },
  {
   "cell_type": "code",
   "execution_count": 150,
   "id": "c7e5f627",
   "metadata": {},
   "outputs": [],
   "source": [
    "s.close()"
   ]
  },
  {
   "cell_type": "code",
   "execution_count": 128,
   "id": "7e4e168f",
   "metadata": {},
   "outputs": [
    {
     "name": "stdout",
     "output_type": "stream",
     "text": [
      "b'A'\n"
     ]
    }
   ],
   "source": [
    "print(b'\\x41')"
   ]
  },
  {
   "cell_type": "code",
   "execution_count": null,
   "id": "830bd32b",
   "metadata": {},
   "outputs": [],
   "source": []
  }
 ],
 "metadata": {
  "kernelspec": {
   "display_name": "Python 3 (ipykernel)",
   "language": "python",
   "name": "python3"
  },
  "language_info": {
   "codemirror_mode": {
    "name": "ipython",
    "version": 3
   },
   "file_extension": ".py",
   "mimetype": "text/x-python",
   "name": "python",
   "nbconvert_exporter": "python",
   "pygments_lexer": "ipython3",
   "version": "3.9.13"
  }
 },
 "nbformat": 4,
 "nbformat_minor": 5
}
